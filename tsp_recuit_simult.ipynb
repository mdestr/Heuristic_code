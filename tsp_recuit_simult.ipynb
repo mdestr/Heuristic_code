{
 "cells": [
  {
   "cell_type": "code",
   "execution_count": null,
   "id": "62f52d66",
   "metadata": {},
   "outputs": [],
   "source": [
    "import numpy as np\n",
    "import matplotlib.pyplot as plt\n",
    "import random as rd\n",
    "\n",
    "N=20\n",
    "k=0\n",
    "\n",
    "while k<N:\n",
    "    x=rd.uniform(0,1)\n",
    "    y=rd.uniform(0,1)\n",
    "    plt.plot(x,y,marker='o',color='r')\n",
    "    k+=1"
   ]
  }
 ],
 "metadata": {
  "kernelspec": {
   "display_name": "Julia 1.11.5",
   "language": "julia",
   "name": "julia-1.11"
  },
  "language_info": {
   "file_extension": ".jl",
   "mimetype": "application/julia",
   "name": "julia",
   "version": "1.11.5"
  }
 },
 "nbformat": 4,
 "nbformat_minor": 5
}
